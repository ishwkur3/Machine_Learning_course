{
 "cells": [
  {
   "cell_type": "markdown",
   "id": "21409be6",
   "metadata": {},
   "source": [
    "## Q1:Count number of instances of a class created in Python?\n",
    "Example: Say Car is any class.\n",
    "\n",
    "- maruti = Car()\n",
    "- bmw = Car()\n",
    "- honda = Car()\n",
    "\n",
    "#### So after creating above instances. We want to count how many instances are created of Car class.\n",
    "\n",
    "For above example no of instances = 3.\n",
    "\n",
    "Write a program for above problem."
   ]
  },
  {
   "cell_type": "code",
   "execution_count": 12,
   "id": "ee95a30a",
   "metadata": {},
   "outputs": [],
   "source": [
    "class Car:\n",
    "    instances = 0\n",
    "    def __init__(self):\n",
    "        Car.instances+=1"
   ]
  },
  {
   "cell_type": "code",
   "execution_count": 13,
   "id": "ba670be3",
   "metadata": {},
   "outputs": [],
   "source": [
    "maruti = Car()\n",
    "bmw = Car()\n",
    "honda = Car()"
   ]
  },
  {
   "cell_type": "code",
   "execution_count": 14,
   "id": "c964acf6",
   "metadata": {},
   "outputs": [
    {
     "data": {
      "text/plain": [
       "3"
      ]
     },
     "execution_count": 14,
     "metadata": {},
     "output_type": "execute_result"
    }
   ],
   "source": [
    "Car.instances"
   ]
  },
  {
   "cell_type": "markdown",
   "id": "00161275",
   "metadata": {},
   "source": [
    "### `Q-2:` Create a deck of cards class. Internally, the deck of cards should use another class, a card class. Your requirements are:\n",
    "\n",
    "* The `Deck` class should have a deal method to deal a single card from the deck\n",
    "* After a card is dealt, it is removed from the deck.\n",
    "* There should be a shuffle method which makes sure the deck of cards has all 52 cards and then rearranges them randomly.\n",
    "* The Card class should have a suit (Hearts, Diamonds, Clubs, Spades) and a value (A,2,3,4,5,6,7,8,9,10,J,Q,K)\n",
    "\n",
    "`Deck` Class\n",
    "* It is class of all possible cards in a deck. Total 52 cards.\n",
    "* Methods - `deal()` it will take out one card from the deck of cards.\n",
    "* Deck of cards should get shuffeled while creating the deck object.\n",
    "* `no of cards remaining in deck - <number>` should dsiplay on printing any deck object.\n",
    "\n",
    "`Card` class\n",
    "* It is a class of card\n",
    "* Atrributes - `suit` and `value`\n",
    "* `<suit> of <value>` should dsiplay on printing any card object."
   ]
  },
  {
   "cell_type": "code",
   "execution_count": 67,
   "id": "e4bcd6f5",
   "metadata": {},
   "outputs": [],
   "source": [
    "import random\n",
    "class Deck:   \n",
    "    def __init__(self):\n",
    "        self.count = 52\n",
    "        \n",
    "    def deal(self,deck):\n",
    "        suit = random.choice(list(deck.keys()))\n",
    "        value = deck[suit].pop(random.randint(0,12))\n",
    "        self.count -= 1\n",
    "        f'no of cards remaining in deck {self.count}.'\n",
    "        return suit and value\n",
    "    \n",
    "class Card:\n",
    "    def __init__(self):\n",
    "        self.deck = {\n",
    "            'Hearts':['A',2,3,4,5,6,7,8,9,10,'J','Q','K'],\n",
    "            'Diamonds':['A',2,3,4,5,6,7,8,9,10,'J','Q','K'],\n",
    "            'Clubs':['A',2,3,4,5,6,7,8,9,10,'J','Q','K'],\n",
    "            'Spades':['A',2,3,4,5,6,7,8,9,10,'J','Q','K']\n",
    "        }\n",
    "        d1 = Deck()\n",
    "        self.suit, self.value = d1.deal(self.deck)\n",
    "        print(f'<{self.suit}> of <{self.value}>')\n",
    "        "
   ]
  },
  {
   "cell_type": "code",
   "execution_count": 68,
   "id": "2290806e",
   "metadata": {},
   "outputs": [
    {
     "ename": "TypeError",
     "evalue": "cannot unpack non-iterable int object",
     "output_type": "error",
     "traceback": [
      "\u001b[1;31m---------------------------------------------------------------------------\u001b[0m",
      "\u001b[1;31mTypeError\u001b[0m                                 Traceback (most recent call last)",
      "Cell \u001b[1;32mIn[68], line 1\u001b[0m\n\u001b[1;32m----> 1\u001b[0m d2 \u001b[38;5;241m=\u001b[39m \u001b[43mCard\u001b[49m\u001b[43m(\u001b[49m\u001b[43m)\u001b[49m\n",
      "Cell \u001b[1;32mIn[67], line 22\u001b[0m, in \u001b[0;36mCard.__init__\u001b[1;34m(self)\u001b[0m\n\u001b[0;32m     15\u001b[0m \u001b[38;5;28mself\u001b[39m\u001b[38;5;241m.\u001b[39mdeck \u001b[38;5;241m=\u001b[39m {\n\u001b[0;32m     16\u001b[0m     \u001b[38;5;124m'\u001b[39m\u001b[38;5;124mHearts\u001b[39m\u001b[38;5;124m'\u001b[39m:[\u001b[38;5;124m'\u001b[39m\u001b[38;5;124mA\u001b[39m\u001b[38;5;124m'\u001b[39m,\u001b[38;5;241m2\u001b[39m,\u001b[38;5;241m3\u001b[39m,\u001b[38;5;241m4\u001b[39m,\u001b[38;5;241m5\u001b[39m,\u001b[38;5;241m6\u001b[39m,\u001b[38;5;241m7\u001b[39m,\u001b[38;5;241m8\u001b[39m,\u001b[38;5;241m9\u001b[39m,\u001b[38;5;241m10\u001b[39m,\u001b[38;5;124m'\u001b[39m\u001b[38;5;124mJ\u001b[39m\u001b[38;5;124m'\u001b[39m,\u001b[38;5;124m'\u001b[39m\u001b[38;5;124mQ\u001b[39m\u001b[38;5;124m'\u001b[39m,\u001b[38;5;124m'\u001b[39m\u001b[38;5;124mK\u001b[39m\u001b[38;5;124m'\u001b[39m],\n\u001b[0;32m     17\u001b[0m     \u001b[38;5;124m'\u001b[39m\u001b[38;5;124mDiamonds\u001b[39m\u001b[38;5;124m'\u001b[39m:[\u001b[38;5;124m'\u001b[39m\u001b[38;5;124mA\u001b[39m\u001b[38;5;124m'\u001b[39m,\u001b[38;5;241m2\u001b[39m,\u001b[38;5;241m3\u001b[39m,\u001b[38;5;241m4\u001b[39m,\u001b[38;5;241m5\u001b[39m,\u001b[38;5;241m6\u001b[39m,\u001b[38;5;241m7\u001b[39m,\u001b[38;5;241m8\u001b[39m,\u001b[38;5;241m9\u001b[39m,\u001b[38;5;241m10\u001b[39m,\u001b[38;5;124m'\u001b[39m\u001b[38;5;124mJ\u001b[39m\u001b[38;5;124m'\u001b[39m,\u001b[38;5;124m'\u001b[39m\u001b[38;5;124mQ\u001b[39m\u001b[38;5;124m'\u001b[39m,\u001b[38;5;124m'\u001b[39m\u001b[38;5;124mK\u001b[39m\u001b[38;5;124m'\u001b[39m],\n\u001b[0;32m     18\u001b[0m     \u001b[38;5;124m'\u001b[39m\u001b[38;5;124mClubs\u001b[39m\u001b[38;5;124m'\u001b[39m:[\u001b[38;5;124m'\u001b[39m\u001b[38;5;124mA\u001b[39m\u001b[38;5;124m'\u001b[39m,\u001b[38;5;241m2\u001b[39m,\u001b[38;5;241m3\u001b[39m,\u001b[38;5;241m4\u001b[39m,\u001b[38;5;241m5\u001b[39m,\u001b[38;5;241m6\u001b[39m,\u001b[38;5;241m7\u001b[39m,\u001b[38;5;241m8\u001b[39m,\u001b[38;5;241m9\u001b[39m,\u001b[38;5;241m10\u001b[39m,\u001b[38;5;124m'\u001b[39m\u001b[38;5;124mJ\u001b[39m\u001b[38;5;124m'\u001b[39m,\u001b[38;5;124m'\u001b[39m\u001b[38;5;124mQ\u001b[39m\u001b[38;5;124m'\u001b[39m,\u001b[38;5;124m'\u001b[39m\u001b[38;5;124mK\u001b[39m\u001b[38;5;124m'\u001b[39m],\n\u001b[0;32m     19\u001b[0m     \u001b[38;5;124m'\u001b[39m\u001b[38;5;124mSpades\u001b[39m\u001b[38;5;124m'\u001b[39m:[\u001b[38;5;124m'\u001b[39m\u001b[38;5;124mA\u001b[39m\u001b[38;5;124m'\u001b[39m,\u001b[38;5;241m2\u001b[39m,\u001b[38;5;241m3\u001b[39m,\u001b[38;5;241m4\u001b[39m,\u001b[38;5;241m5\u001b[39m,\u001b[38;5;241m6\u001b[39m,\u001b[38;5;241m7\u001b[39m,\u001b[38;5;241m8\u001b[39m,\u001b[38;5;241m9\u001b[39m,\u001b[38;5;241m10\u001b[39m,\u001b[38;5;124m'\u001b[39m\u001b[38;5;124mJ\u001b[39m\u001b[38;5;124m'\u001b[39m,\u001b[38;5;124m'\u001b[39m\u001b[38;5;124mQ\u001b[39m\u001b[38;5;124m'\u001b[39m,\u001b[38;5;124m'\u001b[39m\u001b[38;5;124mK\u001b[39m\u001b[38;5;124m'\u001b[39m]\n\u001b[0;32m     20\u001b[0m }\n\u001b[0;32m     21\u001b[0m d1 \u001b[38;5;241m=\u001b[39m Deck()\n\u001b[1;32m---> 22\u001b[0m \u001b[38;5;28mself\u001b[39m\u001b[38;5;241m.\u001b[39msuit, \u001b[38;5;28mself\u001b[39m\u001b[38;5;241m.\u001b[39mvalue \u001b[38;5;241m=\u001b[39m d1\u001b[38;5;241m.\u001b[39mdeal(\u001b[38;5;28mself\u001b[39m\u001b[38;5;241m.\u001b[39mdeck)\n\u001b[0;32m     23\u001b[0m \u001b[38;5;28mprint\u001b[39m(\u001b[38;5;124mf\u001b[39m\u001b[38;5;124m'\u001b[39m\u001b[38;5;124m<\u001b[39m\u001b[38;5;132;01m{\u001b[39;00m\u001b[38;5;28mself\u001b[39m\u001b[38;5;241m.\u001b[39msuit\u001b[38;5;132;01m}\u001b[39;00m\u001b[38;5;124m> of <\u001b[39m\u001b[38;5;132;01m{\u001b[39;00m\u001b[38;5;28mself\u001b[39m\u001b[38;5;241m.\u001b[39mvalue\u001b[38;5;132;01m}\u001b[39;00m\u001b[38;5;124m>\u001b[39m\u001b[38;5;124m'\u001b[39m)\n",
      "\u001b[1;31mTypeError\u001b[0m: cannot unpack non-iterable int object"
     ]
    }
   ],
   "source": [
    "d2 = Card()"
   ]
  },
  {
   "cell_type": "code",
   "execution_count": 57,
   "id": "22709d4e",
   "metadata": {},
   "outputs": [
    {
     "ename": "AttributeError",
     "evalue": "'Card' object has no attribute 'deal'",
     "output_type": "error",
     "traceback": [
      "\u001b[1;31m---------------------------------------------------------------------------\u001b[0m",
      "\u001b[1;31mAttributeError\u001b[0m                            Traceback (most recent call last)",
      "Cell \u001b[1;32mIn[57], line 1\u001b[0m\n\u001b[1;32m----> 1\u001b[0m \u001b[38;5;28mprint\u001b[39m(\u001b[43md1\u001b[49m\u001b[38;5;241;43m.\u001b[39;49m\u001b[43mdeal\u001b[49m())\n",
      "\u001b[1;31mAttributeError\u001b[0m: 'Card' object has no attribute 'deal'"
     ]
    }
   ],
   "source": [
    "print(d1.deal())"
   ]
  },
  {
   "cell_type": "code",
   "execution_count": null,
   "id": "d5769b8a",
   "metadata": {},
   "outputs": [],
   "source": []
  },
  {
   "cell_type": "code",
   "execution_count": null,
   "id": "be465dce",
   "metadata": {},
   "outputs": [],
   "source": []
  }
 ],
 "metadata": {
  "kernelspec": {
   "display_name": "Python 3 (ipykernel)",
   "language": "python",
   "name": "python3"
  },
  "language_info": {
   "codemirror_mode": {
    "name": "ipython",
    "version": 3
   },
   "file_extension": ".py",
   "mimetype": "text/x-python",
   "name": "python",
   "nbconvert_exporter": "python",
   "pygments_lexer": "ipython3",
   "version": "3.8.16"
  }
 },
 "nbformat": 4,
 "nbformat_minor": 5
}
