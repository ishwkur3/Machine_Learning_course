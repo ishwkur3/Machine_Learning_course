{
 "cells": [
  {
   "cell_type": "code",
   "execution_count": 18,
   "id": "2460b4ac",
   "metadata": {},
   "outputs": [],
   "source": [
    "class Rectangle:\n",
    "    def __init__(self,x,y):\n",
    "        self.length = x\n",
    "        self.width = y\n",
    "        self.perimeter()\n",
    "        self.area()\n",
    "        \n",
    "    def perimeter(self):\n",
    "        self.perimeter_of_rect = (self.length+self.width)*2\n",
    "        \n",
    "    def area(self):\n",
    "        self.area_of_rect = self.length*self.width\n",
    "        \n",
    "    def display(self):\n",
    "        print('The length of rectangle is:  {}'.format(self.length))\n",
    "        print(f'The width of rectangle is:  {self.width}')\n",
    "        print(f'The perimeter of rectangle is:  {self.perimeter_of_rect}')\n",
    "        print(f'The area of rectangle is:  {self.area_of_rect}')"
   ]
  },
  {
   "cell_type": "code",
   "execution_count": 19,
   "id": "219964c2",
   "metadata": {},
   "outputs": [],
   "source": [
    "odj = Rectangle(3,4)"
   ]
  },
  {
   "cell_type": "code",
   "execution_count": 20,
   "id": "2286851c",
   "metadata": {},
   "outputs": [
    {
     "name": "stdout",
     "output_type": "stream",
     "text": [
      "The length of rectangle is:  3\n",
      "The width of rectangle is:  4\n",
      "The perimeter of rectangle is:  14\n",
      "The area of rectangle is:  12\n"
     ]
    }
   ],
   "source": [
    "odj.display()"
   ]
  },
  {
   "cell_type": "code",
   "execution_count": 21,
   "id": "56119afe",
   "metadata": {},
   "outputs": [],
   "source": [
    "class BankAccount:\n",
    "    def __init__(self,x,y,z):\n",
    "        self.accountNumber = x\n",
    "        self.name = y\n",
    "        self.balance = z\n",
    "    \n",
    "    def deposit(self,money):\n",
    "        self.balance += money\n",
    "    \n",
    "    def withdrawl(self,money):\n",
    "        if money < self.balance:\n",
    "            self.balance -= money\n",
    "    \n",
    "    def display(self):\n",
    "        print(f'Account Number :  {self.accountNumber}')\n",
    "        print(f'Account Name :  {self.name}')\n",
    "        print(f'Account Balance :  {self.balance} ₹')"
   ]
  },
  {
   "cell_type": "code",
   "execution_count": 22,
   "id": "d2d8e167",
   "metadata": {},
   "outputs": [],
   "source": [
    "obj = BankAccount(421922423,'ishwar',100000)"
   ]
  },
  {
   "cell_type": "code",
   "execution_count": 23,
   "id": "fe44b7f3",
   "metadata": {},
   "outputs": [],
   "source": [
    "obj.deposit(15000)"
   ]
  },
  {
   "cell_type": "code",
   "execution_count": 24,
   "id": "f1468e73",
   "metadata": {},
   "outputs": [
    {
     "name": "stdout",
     "output_type": "stream",
     "text": [
      "Account Number :  421922423\n",
      "Account Name :  ishwar\n",
      "Account Balance :  115000 ₹\n"
     ]
    }
   ],
   "source": [
    "obj.display()"
   ]
  },
  {
   "cell_type": "code",
   "execution_count": 25,
   "id": "6476ed62",
   "metadata": {},
   "outputs": [],
   "source": [
    "obj.withdrawl(2000)"
   ]
  },
  {
   "cell_type": "code",
   "execution_count": 26,
   "id": "1a466df3",
   "metadata": {},
   "outputs": [
    {
     "name": "stdout",
     "output_type": "stream",
     "text": [
      "Account Number :  421922423\n",
      "Account Name :  ishwar\n",
      "Account Balance :  113000 ₹\n"
     ]
    }
   ],
   "source": [
    "obj.display()"
   ]
  },
  {
   "cell_type": "code",
   "execution_count": 58,
   "id": "758e6446",
   "metadata": {},
   "outputs": [],
   "source": [
    "class Computation:\n",
    "    def __init__(self):\n",
    "        self.fact = 1\n",
    "        self.sum = 0\n",
    "        \n",
    "    def Factorial(self,n):\n",
    "        for i in range(1,n+1):\n",
    "            self.fact = (i)*self.fact\n",
    "    \n",
    "    def naturalsum(self,n):\n",
    "        for i in range(1,n+1):\n",
    "            self.sum += i\n",
    "            \n",
    "    def testprime(self,n):\n",
    "        if n>1:\n",
    "            for i in range(2,(n//2)+1):\n",
    "                if (n % i) == 0:\n",
    "                    print(f'The number {n} is not prime number.')\n",
    "            else:\n",
    "                print(f'The number {n} is prime number.')\n",
    "        else:\n",
    "            print(f'The number {n} is prime number.')\n",
    "            \n",
    "    def testprims(self,x,y):\n",
    "        if x>1 or y>1:\n",
    "            for i in range(2,(x//2)+1):\n",
    "                if"
   ]
  },
  {
   "cell_type": "code",
   "execution_count": 59,
   "id": "e231f86d",
   "metadata": {},
   "outputs": [],
   "source": [
    "obj1 = Computation()"
   ]
  },
  {
   "cell_type": "code",
   "execution_count": 60,
   "id": "26b7dcce",
   "metadata": {},
   "outputs": [
    {
     "name": "stdout",
     "output_type": "stream",
     "text": [
      "The number 11 is prime number.\n"
     ]
    }
   ],
   "source": [
    "obj1.Factorial(4)\n",
    "obj1.testprime(11)"
   ]
  },
  {
   "cell_type": "code",
   "execution_count": 64,
   "id": "8bb5c0b2",
   "metadata": {},
   "outputs": [],
   "source": [
    "import random"
   ]
  },
  {
   "cell_type": "code",
   "execution_count": 90,
   "id": "747c21cb",
   "metadata": {},
   "outputs": [],
   "source": [
    "class FlashCard:\n",
    "    def __init__(self):\n",
    "        print('Welcome to fruit quiz.')\n",
    "        self.fruits={\n",
    "            'Banana':'yellow',\n",
    "            'Mango':'yellow',\n",
    "            'Apple':'red',\n",
    "            'Watermelon':'green',\n",
    "            'orange':'yellow',\n",
    "            'Grapes':'green',\n",
    "            'blackberries':'black'\n",
    "        }\n",
    "        self.color = ''\n",
    "        self.fruit = ''\n",
    "        user_play = 0\n",
    "        while user_play==0:\n",
    "            self.random_select()\n",
    "            user_play = int(input(f'Enter 0, if you want to play again: '))\n",
    "        \n",
    "    \n",
    "    def random_select(self):\n",
    "        self.fruit = random.choice(list(fruits.keys()))\n",
    "        self.color = self.fruits[self.fruit]\n",
    "        user_input = input(f'What is the color of {self.fruit}?').lower()\n",
    "        if user_input == self.color:\n",
    "            print('Correct answer')\n",
    "        else:\n",
    "            print('Wrong answer')"
   ]
  },
  {
   "cell_type": "code",
   "execution_count": 91,
   "id": "00fad28a",
   "metadata": {},
   "outputs": [
    {
     "name": "stdout",
     "output_type": "stream",
     "text": [
      "Welcome to fruit quiz.\n",
      "What is the color of Apple?red\n",
      "Correct answer\n",
      "Enter 0, if you want to play again: 0\n",
      "What is the color of Watermelon?greed\n",
      "Wrong answer\n",
      "Enter 0, if you want to play again: 0\n",
      "What is the color of Banana?yellow\n",
      "Correct answer\n",
      "Enter 0, if you want to play again: 1\n"
     ]
    }
   ],
   "source": [
    "obj2 = FlashCard()"
   ]
  },
  {
   "cell_type": "code",
   "execution_count": 78,
   "id": "3926badb",
   "metadata": {},
   "outputs": [
    {
     "name": "stdout",
     "output_type": "stream",
     "text": [
      "Apple\n"
     ]
    }
   ],
   "source": [
    "fruits={\n",
    "            'Banana':'yellow',\n",
    "            'Mango':'Yellow',\n",
    "            'Apple':'Red',\n",
    "            'Watermelon':'Green'\n",
    "        }\n",
    "print(random.choice(list(fruits.keys())))"
   ]
  },
  {
   "cell_type": "code",
   "execution_count": null,
   "id": "f478557c",
   "metadata": {},
   "outputs": [],
   "source": []
  }
 ],
 "metadata": {
  "kernelspec": {
   "display_name": "Python 3 (ipykernel)",
   "language": "python",
   "name": "python3"
  },
  "language_info": {
   "codemirror_mode": {
    "name": "ipython",
    "version": 3
   },
   "file_extension": ".py",
   "mimetype": "text/x-python",
   "name": "python",
   "nbconvert_exporter": "python",
   "pygments_lexer": "ipython3",
   "version": "3.8.16"
  }
 },
 "nbformat": 4,
 "nbformat_minor": 5
}
