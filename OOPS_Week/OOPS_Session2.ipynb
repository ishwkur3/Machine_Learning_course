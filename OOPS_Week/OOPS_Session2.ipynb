{
 "cells": [
  {
   "cell_type": "code",
   "execution_count": 29,
   "id": "d6786883",
   "metadata": {},
   "outputs": [],
   "source": [
    "class Point:\n",
    "    \n",
    "    def __init__(self,x,y):\n",
    "        self.x_cord = x\n",
    "        self.y_cord = y\n",
    "        \n",
    "    def __str__(self):\n",
    "        return f'<{self.x_cord},{self.y_cord}>'\n",
    "    \n",
    "    def euclidean_dis(self,other):\n",
    "        return ((self.x_cord - other.x_cord)**2 + (self.y_cord - other.y_cord)**2)**0.5\n",
    "    \n",
    "    def distance_from_origin(self):\n",
    "        return self.euclidean_dis(Point(0,0))\n",
    "    \n",
    "class Line:\n",
    "    \n",
    "    def __init__(self,A,B,C):\n",
    "        self.A = A\n",
    "        self.B = B\n",
    "        self.C = C\n",
    "        \n",
    "    def __str__(self):\n",
    "        return f'{self.A}x + {self.B}y + {self.C} = 0'\n",
    "        \n",
    "    def point_on_line(line,point):\n",
    "        if line.A*point.x_cord + line.B*point.y_cord +line.C == 0:\n",
    "            return 'Point lies on line'\n",
    "        else:\n",
    "            return 'Point does not lie on the line'\n",
    "        \n",
    "    def shortest_dist(line,point):\n",
    "        return abs(line.A*point.x_cord + line.B*point.y_cord +line.C)/(line.A**2 + line.B**2)**0.5"
   ]
  },
  {
   "cell_type": "code",
   "execution_count": 30,
   "id": "c3a8db19",
   "metadata": {},
   "outputs": [],
   "source": [
    "p1 = Point(1,1)\n",
    "p2 = Point(1,2)"
   ]
  },
  {
   "cell_type": "code",
   "execution_count": 26,
   "id": "4f7c1478",
   "metadata": {},
   "outputs": [
    {
     "name": "stdout",
     "output_type": "stream",
     "text": [
      "<1,1>\n"
     ]
    },
    {
     "data": {
      "text/plain": [
       "2.23606797749979"
      ]
     },
     "execution_count": 26,
     "metadata": {},
     "output_type": "execute_result"
    }
   ],
   "source": [
    "print(p1)\n",
    "p2.distance_from_origin()"
   ]
  },
  {
   "cell_type": "code",
   "execution_count": 33,
   "id": "25128d7c",
   "metadata": {},
   "outputs": [
    {
     "name": "stdout",
     "output_type": "stream",
     "text": [
      "1x + 1y + -2 = 0\n",
      "Point lies on line\n"
     ]
    },
    {
     "data": {
      "text/plain": [
       "0.0"
      ]
     },
     "execution_count": 33,
     "metadata": {},
     "output_type": "execute_result"
    }
   ],
   "source": [
    "l1 = Line(1,1,-2)\n",
    "print(l1)\n",
    "print(l1.point_on_line(p1))\n",
    "l1.shortest_dist(p1)"
   ]
  },
  {
   "cell_type": "code",
   "execution_count": null,
   "id": "66298718",
   "metadata": {},
   "outputs": [],
   "source": []
  }
 ],
 "metadata": {
  "kernelspec": {
   "display_name": "Python 3 (ipykernel)",
   "language": "python",
   "name": "python3"
  },
  "language_info": {
   "codemirror_mode": {
    "name": "ipython",
    "version": 3
   },
   "file_extension": ".py",
   "mimetype": "text/x-python",
   "name": "python",
   "nbconvert_exporter": "python",
   "pygments_lexer": "ipython3",
   "version": "3.8.16"
  }
 },
 "nbformat": 4,
 "nbformat_minor": 5
}
