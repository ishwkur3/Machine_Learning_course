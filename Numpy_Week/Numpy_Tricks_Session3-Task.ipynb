{
 "cells": [
  {
   "cell_type": "code",
   "execution_count": 1,
   "id": "eff257b6",
   "metadata": {},
   "outputs": [],
   "source": [
    "import numpy as np"
   ]
  },
  {
   "cell_type": "markdown",
   "id": "a1418baf",
   "metadata": {},
   "source": [
    "### `Q-1:` Create a random 3x4 matrix with value between 0-100. And perform below tasks\n",
    "\n",
    "    i. Sort this matrix. np.sort()\n",
    "    ii. Sort this matrix based on values in 2nd column.\n",
    "    iii. Sort this matrix based on max value in each row.\n",
    "    iv. Sort based on elements value.\n"
   ]
  },
  {
   "cell_type": "markdown",
   "id": "853d72fe",
   "metadata": {},
   "source": [
    "See examples:\n",
    "```\n",
    "arr = \n",
    "    [[92 90 74]\n",
    "    [ 6 63 93]\n",
    "    [15 93 96]\n",
    "    [70 60 48]]\n",
    "```\n",
    "```\n",
    "i. np.sort\n",
    "[[74 90 92]\n",
    " [ 6 63 93]\n",
    " [15 93 96]\n",
    " [48 60 70]]\n",
    "\n",
    "ii. based on 2nd column\n",
    "[[70 60 48]\n",
    " [ 6 63 93]\n",
    " [92 90 74]\n",
    " [15 93 96]]\n",
    "\n",
    "iii. based on row max- ascending\n",
    "[[15 93 96]\n",
    " [ 6 63 93]\n",
    " [92 90 74]\n",
    " [70 60 48]]\n",
    "\n",
    "iv. based on elements value\n",
    "[[ 6 15 48]\n",
    " [60 63 70]\n",
    " [74 90 92]\n",
    " [93 93 96]]\n",
    "\n",
    "```"
   ]
  },
  {
   "cell_type": "code",
   "execution_count": 32,
   "id": "a139eb8d",
   "metadata": {},
   "outputs": [
    {
     "data": {
      "text/plain": [
       "array([[50, 75, 86, 56],\n",
       "       [71, 62, 89, 34],\n",
       "       [39, 38, 40, 86]])"
      ]
     },
     "execution_count": 32,
     "metadata": {},
     "output_type": "execute_result"
    }
   ],
   "source": [
    "arr = np.random.randint(0,100,(3,4))\n",
    "arr"
   ]
  },
  {
   "cell_type": "code",
   "execution_count": 33,
   "id": "fef27da2",
   "metadata": {},
   "outputs": [
    {
     "data": {
      "text/plain": [
       "array([[50, 56, 75, 86],\n",
       "       [34, 62, 71, 89],\n",
       "       [38, 39, 40, 86]])"
      ]
     },
     "execution_count": 33,
     "metadata": {},
     "output_type": "execute_result"
    }
   ],
   "source": [
    "np.sort(arr)"
   ]
  },
  {
   "cell_type": "code",
   "execution_count": 34,
   "id": "8c4efd23",
   "metadata": {},
   "outputs": [
    {
     "data": {
      "text/plain": [
       "array([[39, 38, 40, 86],\n",
       "       [71, 62, 89, 34],\n",
       "       [50, 75, 86, 56]])"
      ]
     },
     "execution_count": 34,
     "metadata": {},
     "output_type": "execute_result"
    }
   ],
   "source": [
    "arr[arr[:,1].argsort()]"
   ]
  },
  {
   "cell_type": "code",
   "execution_count": 59,
   "id": "557c41ca",
   "metadata": {},
   "outputs": [
    {
     "data": {
      "text/plain": [
       "array([[50, 38, 86, 56],\n",
       "       [39, 75, 40, 86],\n",
       "       [71, 62, 89, 34]])"
      ]
     },
     "execution_count": 59,
     "metadata": {},
     "output_type": "execute_result"
    }
   ],
   "source": [
    "np.array(sorted(arr,key= lambda x: max(x)))"
   ]
  },
  {
   "cell_type": "code",
   "execution_count": 62,
   "id": "e61358a4",
   "metadata": {},
   "outputs": [],
   "source": [
    "np.ravel(arr).sort()"
   ]
  },
  {
   "cell_type": "code",
   "execution_count": 66,
   "id": "c7fc491f",
   "metadata": {},
   "outputs": [
    {
     "data": {
      "text/plain": [
       "array([[34, 38, 39, 40],\n",
       "       [50, 56, 62, 71],\n",
       "       [75, 86, 86, 89]])"
      ]
     },
     "execution_count": 66,
     "metadata": {},
     "output_type": "execute_result"
    }
   ],
   "source": [
    "arr"
   ]
  },
  {
   "cell_type": "markdown",
   "id": "3665bd8f",
   "metadata": {},
   "source": [
    "### `Q-2:` There is an array of marks of 5 students in 4 subjects. Further you are asked to perform below task.\n",
    "    i. Add marks every student of an extra subject in the same array.\n",
    "    ii. Add two new students marks in respective 5 subjects.(one subject added in above task)\n",
    "    iii. Add extra column with sum of all subjects(5-subjects) marks\n",
    "    iv. Sort the array(non-ascending order) on total marks column--one added in above task. Show top 2 rows.\n",
    "\n",
    "Note: Change dimension of arrays during concatenation or appending if required."
   ]
  },
  {
   "cell_type": "markdown",
   "id": "fd172cee",
   "metadata": {},
   "source": [
    "Given Array-\n",
    "```\n",
    "marks = [[13, 10,  9, 33],\n",
    "       [63, 46, 90, 42],\n",
    "       [39, 76, 13, 29],\n",
    "       [82,  9, 29, 78],\n",
    "       [67, 61, 59, 36]]\n",
    "\n",
    "extra_subject = [41, 87, 72, 36, 92]\n",
    "#Two extra students record-\n",
    "rec1 = [77, 83, 98, 95, 89]\n",
    "rec2 = [92, 71, 52, 61, 53]\n",
    "```"
   ]
  },
  {
   "cell_type": "code",
   "execution_count": 118,
   "id": "5e50478c",
   "metadata": {},
   "outputs": [
    {
     "data": {
      "text/plain": [
       "array([[13, 10,  9, 33],\n",
       "       [63, 46, 90, 42],\n",
       "       [39, 76, 13, 29],\n",
       "       [82,  9, 29, 78],\n",
       "       [67, 61, 59, 36]])"
      ]
     },
     "execution_count": 118,
     "metadata": {},
     "output_type": "execute_result"
    }
   ],
   "source": [
    "marks = np.array([[13, 10,  9, 33],\n",
    "                  [63, 46, 90, 42],\n",
    "                  [39, 76, 13, 29],\n",
    "                  [82,  9, 29, 78],\n",
    "                  [67, 61, 59, 36]])\n",
    "marks"
   ]
  },
  {
   "cell_type": "code",
   "execution_count": 120,
   "id": "580792ca",
   "metadata": {},
   "outputs": [
    {
     "name": "stdout",
     "output_type": "stream",
     "text": [
      "[[13 10  9 33]\n",
      " [63 46 90 42]\n",
      " [39 76 13 29]\n",
      " [82  9 29 78]\n",
      " [67 61 59 36]]\n"
     ]
    }
   ],
   "source": [
    "print(marks)"
   ]
  },
  {
   "cell_type": "code",
   "execution_count": 126,
   "id": "340083ec",
   "metadata": {},
   "outputs": [
    {
     "name": "stdout",
     "output_type": "stream",
     "text": [
      "(1, 5)\n",
      "(7, 5)\n"
     ]
    }
   ],
   "source": [
    "print(student1.shape)\n",
    "print(marks.shape)"
   ]
  },
  {
   "cell_type": "code",
   "execution_count": 121,
   "id": "fc6032fc",
   "metadata": {},
   "outputs": [
    {
     "name": "stdout",
     "output_type": "stream",
     "text": [
      "[[13 10  9 33  1]\n",
      " [63 46 90 42  2]\n",
      " [39 76 13 29  3]\n",
      " [82  9 29 78  4]\n",
      " [67 61 59 36  5]]\n",
      "\n",
      "[[13 10  9 33  1]\n",
      " [63 46 90 42  2]\n",
      " [39 76 13 29  3]\n",
      " [82  9 29 78  4]\n",
      " [67 61 59 36  5]\n",
      " [55 65 33 55 69]\n",
      " [65 35 75 95 35]]\n"
     ]
    }
   ],
   "source": [
    "subject = np.array([1,2,3,4,5])\n",
    "student1 = np.array([55,65,33,55,69]).reshape(1,-1)\n",
    "student2 = np.array([65,35,75,95,35]).reshape(1,-1)\n",
    "#1\n",
    "marks = np.concatenate((marks,subject[:,None]),axis=1)\n",
    "print(f'{marks}\\n')\n",
    "#2\n",
    "marks = np.concatenate((marks,student1,student2))\n",
    "print(marks)"
   ]
  },
  {
   "cell_type": "code",
   "execution_count": 127,
   "id": "94431bb2",
   "metadata": {},
   "outputs": [
    {
     "name": "stdout",
     "output_type": "stream",
     "text": [
      "[[ 13  10   9  33   1  66]\n",
      " [ 63  46  90  42   2 243]\n",
      " [ 39  76  13  29   3 160]\n",
      " [ 82   9  29  78   4 202]\n",
      " [ 67  61  59  36   5 228]\n",
      " [ 55  65  33  55  69 277]\n",
      " [ 65  35  75  95  35 305]]\n"
     ]
    }
   ],
   "source": [
    "#3\n",
    "marks = np.concatenate((marks,np.sum(marks,axis=1)[:,None]),axis=1)\n",
    "print(marks)"
   ]
  },
  {
   "cell_type": "code",
   "execution_count": 130,
   "id": "918b89d6",
   "metadata": {},
   "outputs": [
    {
     "data": {
      "text/plain": [
       "array([[ 65,  35,  75,  95,  35, 305],\n",
       "       [ 55,  65,  33,  55,  69, 277],\n",
       "       [ 63,  46,  90,  42,   2, 243],\n",
       "       [ 67,  61,  59,  36,   5, 228],\n",
       "       [ 82,   9,  29,  78,   4, 202],\n",
       "       [ 39,  76,  13,  29,   3, 160],\n",
       "       [ 13,  10,   9,  33,   1,  66]])"
      ]
     },
     "execution_count": 130,
     "metadata": {},
     "output_type": "execute_result"
    }
   ],
   "source": [
    "np.array(sorted(marks,key= lambda x: max(x),reverse=True))"
   ]
  },
  {
   "cell_type": "markdown",
   "id": "6179712d",
   "metadata": {},
   "source": [
    "### `Q-3:` Find unique arrays from a 2D array column wise and row wise.\n",
    "```\n",
    "arr = np.array([[1,2,3,3,1,1],\n",
    "                [0,9,1,2,8,8],\n",
    "                [1,2,3,8,8,8],\n",
    "                [1,2,3,3,1,1]])\n",
    "```\n",
    "Expected Result-\n",
    "```\n",
    "Row Wise\n",
    "[[0 9 1 2 8 8]\n",
    " [1 2 3 3 1 1]\n",
    " [1 2 3 8 8 8]]\n",
    "\n",
    "Col Wise\n",
    "[[1 1 2 3 3]\n",
    " [0 8 9 1 2]\n",
    " [1 8 2 3 8]\n",
    " [1 1 2 3 3]]\n",
    "```"
   ]
  },
  {
   "cell_type": "code",
   "execution_count": 139,
   "id": "2edf383f",
   "metadata": {},
   "outputs": [
    {
     "name": "stdout",
     "output_type": "stream",
     "text": [
      "[[1 2 3 3 1 1]\n",
      " [0 9 1 2 8 8]\n",
      " [1 2 3 8 8 8]\n",
      " [1 2 3 3 1 1]]\n",
      "\n",
      "\n",
      "[[1 1 2 3 3]\n",
      " [0 8 9 1 2]\n",
      " [1 8 2 3 8]\n",
      " [1 1 2 3 3]]\n",
      "\n",
      "\n",
      "[[0 9 1 2 8 8]\n",
      " [1 2 3 3 1 1]\n",
      " [1 2 3 8 8 8]]\n"
     ]
    }
   ],
   "source": [
    "arr = np.array([[1,2,3,3,1,1],\n",
    "                [0,9,1,2,8,8],\n",
    "                [1,2,3,8,8,8],\n",
    "                [1,2,3,3,1,1]])\n",
    "print(arr)\n",
    "print('\\n')\n",
    "print(np.unique(arr,axis=1))\n",
    "print('\\n')\n",
    "print(np.unique(arr,axis=0))"
   ]
  },
  {
   "cell_type": "markdown",
   "id": "33c7baa0",
   "metadata": {},
   "source": [
    "### `Q-4:` Flip given 2-D array along both axes at the same time."
   ]
  },
  {
   "cell_type": "code",
   "execution_count": 140,
   "id": "723f751b",
   "metadata": {},
   "outputs": [
    {
     "name": "stdout",
     "output_type": "stream",
     "text": [
      "[[1 2 3 3 1 1]\n",
      " [0 9 1 2 8 8]\n",
      " [1 2 3 8 8 8]\n",
      " [1 2 3 3 1 1]]\n"
     ]
    }
   ],
   "source": [
    "arr = np.array([[1,2,3,3,1,1],\n",
    "                [0,9,1,2,8,8],\n",
    "                [1,2,3,8,8,8],\n",
    "                [1,2,3,3,1,1]])\n",
    "print(arr)"
   ]
  },
  {
   "cell_type": "code",
   "execution_count": 141,
   "id": "52c06a22",
   "metadata": {},
   "outputs": [
    {
     "data": {
      "text/plain": [
       "array([[1, 1, 3, 3, 2, 1],\n",
       "       [8, 8, 8, 3, 2, 1],\n",
       "       [8, 8, 2, 1, 9, 0],\n",
       "       [1, 1, 3, 3, 2, 1]])"
      ]
     },
     "execution_count": 141,
     "metadata": {},
     "output_type": "execute_result"
    }
   ],
   "source": [
    "np.flip(arr,axis=[0,1])"
   ]
  },
  {
   "cell_type": "markdown",
   "id": "b472c596",
   "metadata": {},
   "source": [
    "### `Q-5:` Get row numbers of NumPy array having element larger than X.\n",
    "```\n",
    "arr = [[1,2,3,4,5], \n",
    "      [10,-3,30,4,5], \n",
    "      [3,2,5,-4,5], \n",
    "      [9,7,3,6,5]] \n",
    "\n",
    "X = 6\n",
    "```"
   ]
  },
  {
   "cell_type": "code",
   "execution_count": 162,
   "id": "6f6281bd",
   "metadata": {},
   "outputs": [
    {
     "name": "stdout",
     "output_type": "stream",
     "text": [
      "[[ 1  2  3  4  5]\n",
      " [10 -3 30  4  5]\n",
      " [ 3  2  5 -4  5]\n",
      " [ 9  7  3  6  5]]\n"
     ]
    },
    {
     "data": {
      "text/plain": [
       "(array([1, 3], dtype=int64),)"
      ]
     },
     "execution_count": 162,
     "metadata": {},
     "output_type": "execute_result"
    }
   ],
   "source": [
    "arr = np.array([[1,2,3,4,5], \n",
    "      [10,-3,30,4,5], \n",
    "      [3,2,5,-4,5], \n",
    "      [9,7,3,6,5]])\n",
    "print(arr)\n",
    "x = 6\n",
    "np.where(np.any(arr>6,axis=1))"
   ]
  },
  {
   "cell_type": "markdown",
   "id": "9917c615",
   "metadata": {},
   "source": [
    "### `Q-6:` How to convert an array of arrays into a flat 1d array?\n"
   ]
  },
  {
   "cell_type": "code",
   "execution_count": 165,
   "id": "e045cdc6",
   "metadata": {},
   "outputs": [
    {
     "data": {
      "text/plain": [
       "array([0, 1, 2, 3, 4, 5, 6, 7, 8, 9])"
      ]
     },
     "execution_count": 165,
     "metadata": {},
     "output_type": "execute_result"
    }
   ],
   "source": [
    "arr1 = np.arange(3)\n",
    "arr2 = np.arange(3,7)\n",
    "arr3 = np.arange(7,10)\n",
    "np.concatenate([arr1,arr2,arr3])"
   ]
  },
  {
   "cell_type": "markdown",
   "id": "6ae5142a",
   "metadata": {},
   "source": [
    "### `Q-7:` You are given a array. You have to find the minimum and maximum array element and remove that from the array.\n",
    "\n",
    "```python\n",
    "import numpy as np\n",
    "\n",
    "np.random.seed(400)\n",
    "arr = np.random.randint(100, 1000, 200).reshape((1, 200))\n",
    "```"
   ]
  },
  {
   "cell_type": "code",
   "execution_count": 166,
   "id": "0decf806",
   "metadata": {},
   "outputs": [],
   "source": [
    "np.random.seed(400)\n",
    "arr = np.random.randint(100, 1000, 200).reshape((1, 200))"
   ]
  },
  {
   "cell_type": "code",
   "execution_count": 179,
   "id": "39d9cff1",
   "metadata": {
    "scrolled": true
   },
   "outputs": [
    {
     "data": {
      "text/plain": [
       "array([448, 563, 418, 240, 507, 362, 345, 236, 719, 291, 298, 639, 458,\n",
       "       387, 262, 613, 267, 882, 181, 425, 790, 635, 889, 818, 872, 967,\n",
       "       277, 470, 336, 920, 917, 295, 557, 830, 506, 385, 353, 975, 592,\n",
       "       997, 137, 340, 222, 215, 472, 459, 617, 649, 935, 956, 914, 932,\n",
       "       645, 952, 921, 490, 527, 972, 278, 307, 840, 958, 246, 449, 251,\n",
       "       957, 627, 920, 824, 356, 825, 173, 323, 372, 960, 710, 464, 244,\n",
       "       782, 763, 635, 436, 774, 171, 469, 178, 458, 624, 211, 771, 270,\n",
       "       308, 231, 952, 514, 699, 702, 433, 900, 373, 318, 265, 503, 320,\n",
       "       230, 324, 922, 967, 620, 743, 527, 117, 566, 804, 123, 946, 587,\n",
       "       227, 853, 757, 944, 328, 855, 930, 325, 729, 426, 514, 296, 879,\n",
       "       575, 936, 705, 209, 191, 743, 510, 513, 628, 559, 658, 528, 395,\n",
       "       525, 922, 136, 496, 225, 895, 975, 263, 908, 420, 711, 800, 976,\n",
       "       786, 235, 930, 859, 618, 226, 695, 460, 218, 483, 490, 803, 621,\n",
       "       453, 193, 607, 677, 637, 728, 724, 534, 748, 291, 194, 761, 875,\n",
       "       687, 569, 228, 482, 781, 554, 654, 739, 885, 197, 266, 228, 892,\n",
       "       207, 883, 588])"
      ]
     },
     "execution_count": 179,
     "metadata": {},
     "output_type": "execute_result"
    }
   ],
   "source": [
    "np.delete(arr,obj=[np.argmax(arr),np.argmin(arr)])"
   ]
  },
  {
   "cell_type": "markdown",
   "id": "865e352f",
   "metadata": {},
   "source": [
    "### `Q-8:` You are given an arrays. You have to limit this array's elements between 100 to 200. $arr ∈ [100, 700]$. So replace those values accordingly with the minimum and maximum value. Then sort the array and perform the cumulative sum of that array."
   ]
  },
  {
   "cell_type": "code",
   "execution_count": 182,
   "id": "6e778303",
   "metadata": {},
   "outputs": [
    {
     "data": {
      "text/plain": [
       "array([ 681,  708, 1762,  497,  788,  788, 1417, 1793,  600, 1636,   58,\n",
       "       1327,  336, 1304, 1352,  186,  549,  884, 1379, 1830,  321,  468,\n",
       "        606,  244,  473, 1850,   63,  877,  920,  882, 1670,  447, 1455,\n",
       "        303,  982, 1842,  712,  434, 1855,  747, 1096, 1301, 1337,  476,\n",
       "       1819,  612, 1663, 1566,  205,  861,  820,  714, 1301,  865, 1864,\n",
       "        668, 1012, 1874, 1899,  834,  384,  582, 1994, 1414, 1170,  204,\n",
       "        221, 1859, 1687,  398, 1164,  482, 1967, 1701,  738, 1200,  352,\n",
       "        529, 1724, 1865,  412,  948, 1094, 1406, 1295, 1210,  455,  339,\n",
       "       1614,   67, 1684, 1833,  575, 1845, 1183, 1093,  331, 1653,  532,\n",
       "       1595,  662, 1416, 1170,  800,  815, 1632, 1234, 1211, 1679,  672,\n",
       "       1296, 1716, 1442,  399,  671, 1711,   54, 1648, 1272,  442, 1766,\n",
       "       1866,  604,  146,  328, 1499, 1198,  838, 1125,  360, 1468, 1585,\n",
       "        324,  204, 1107, 1711, 1810,  159,   89,  478, 1645,  913, 1222,\n",
       "        570, 1899, 1229,  185, 1933,  260,  472,  629, 1906,  743,  902,\n",
       "        928, 1395,  783,  593,  390,  407,   69, 1260, 1262,  240,  833,\n",
       "       1643,  207, 1201, 1911, 1182,  401,  343, 1007, 1813, 1503, 1407,\n",
       "        512, 1829,  128, 1380,   74, 1092, 1566, 1510, 1027,   25, 1902,\n",
       "        323,  481,  259, 1486, 1193,  117, 1714,  337, 1843, 1460, 1878,\n",
       "        788, 1129,  679,  875, 1114,  315, 1084,  370, 1509,  112,  129,\n",
       "       1155, 1050,  494, 1040,  185,  281, 1849,   50,  542,  405, 1404,\n",
       "       1713, 1773, 1228, 1149, 1984,  203,  532, 1424,  664,  573, 1693,\n",
       "        303, 1238, 1695, 1571,  279, 1426, 1453,  486,  520,  868,  751,\n",
       "        175, 1586,  906, 1153, 1577,  422, 1410,  504,  909, 1437, 1287,\n",
       "       1350, 1547,  136,  598,  965,  393,  455, 1579,  183, 1118,  548,\n",
       "       1421,  711,  594,    6,   86,  659, 1220, 1742,  641, 1558, 1472,\n",
       "       1368, 1367, 1947, 1587, 1564,  862, 1209, 1289,  588, 1235,  957,\n",
       "        200, 1717,  100, 1082, 1275,  646, 1158, 1735,  963, 1676,  706,\n",
       "        861,  701,  626, 1730, 1568, 1345,  604, 1462,  983, 1364, 1254,\n",
       "       1851,  504,  661, 1784,   67,  590,  711, 1255, 1069,  590,  891,\n",
       "       1462,  702,   99, 1341, 1909, 1778, 1115, 1026,  882, 1174,   22,\n",
       "       1789, 1296, 1255,  582,  491, 1930,  127, 1780, 1295,  348, 1542,\n",
       "        154,   82,  282,  215, 1070, 1143,  166, 1064,   18, 1790, 1151,\n",
       "       1599,  635, 1978, 1081, 1074, 1223,  401,  156, 1068, 1837,  137,\n",
       "       1935, 1482, 1693,  401, 1982, 1615, 1731, 1848, 1291, 1378,  157,\n",
       "        822,  781, 1930,  736, 1215,  894, 1968, 1552,  186, 1614,  173,\n",
       "        864,  379,  198, 1521,  148, 1352,  918,  738, 1922, 1178, 1342,\n",
       "        165, 1173, 1432, 1791,  730,   38,  353, 1762,  564,  785,  522,\n",
       "       1802,  335,  866, 1231, 1524, 1575, 1035,  458,  477,  478, 1424,\n",
       "       1400,  729,  683,  326,  801, 1043, 1500,  231,  181, 1136,  834,\n",
       "       1976, 1066,  738, 1481,  407,   71, 1418,  494,  924,  395,  451,\n",
       "       1157, 1256, 1262,  842, 1731,  259,  787,  563, 1213,  819, 1898,\n",
       "        381, 1119,  865, 1017, 1074,  952,  407, 1022, 1288, 1976,  644,\n",
       "       1586, 1914, 1280, 1954,  179,  312, 1591, 1105,  994, 1058,  952,\n",
       "        703, 1058, 1830, 1504, 1622,  649, 1603, 1293,  766, 1871, 1697,\n",
       "        267, 1963,  115,  479,  110, 1221,  594,   29, 1084, 1937, 1681,\n",
       "       1751,  982, 1952,  187, 1606])"
      ]
     },
     "execution_count": 182,
     "metadata": {},
     "output_type": "execute_result"
    }
   ],
   "source": [
    "arr = np.random.randint(0, 2000, 500)\n",
    "arr"
   ]
  },
  {
   "cell_type": "code",
   "execution_count": 185,
   "id": "23f1826c",
   "metadata": {},
   "outputs": [
    {
     "data": {
      "text/plain": [
       "array([  100,   200,   300,   400,   500,   600,   700,   800,   900,\n",
       "        1000,  1100,  1200,  1300,  1400,  1500,  1600,  1700,  1800,\n",
       "        1900,  2000,  2110,  2222,  2337,  2454,  2581,  2709,  2838,\n",
       "        2974,  3111,  3257,  3405,  3559,  3715,  3872,  4031,  4196,\n",
       "        4362,  4535,  4710,  4889,  5070,  5253,  5438,  5623,  5809,\n",
       "        5995,  6182,  6380,  6580,  6780,  6980,  7180,  7380,  7580,\n",
       "        7780,  7980,  8180,  8380,  8580,  8780,  8980,  9180,  9380,\n",
       "        9580,  9780,  9980, 10180, 10380, 10580, 10780, 10980, 11180,\n",
       "       11380, 11580, 11780, 11980, 12180, 12380, 12580, 12780, 12980,\n",
       "       13180, 13380, 13580, 13780, 13980, 14180, 14380, 14580, 14780,\n",
       "       14980, 15180, 15380, 15580, 15780, 15980, 16180, 16380, 16580,\n",
       "       16780, 16980, 17180, 17380, 17580, 17780, 17980, 18180, 18380,\n",
       "       18580, 18780, 18980, 19180, 19380, 19580, 19780, 19980, 20180,\n",
       "       20380, 20580, 20780, 20980, 21180, 21380, 21580, 21780, 21980,\n",
       "       22180, 22380, 22580, 22780, 22980, 23180, 23380, 23580, 23780,\n",
       "       23980, 24180, 24380, 24580, 24780, 24980, 25180, 25380, 25580,\n",
       "       25780, 25980, 26180, 26380, 26580, 26780, 26980, 27180, 27380,\n",
       "       27580, 27780, 27980, 28180, 28380, 28580, 28780, 28980, 29180,\n",
       "       29380, 29580, 29780, 29980, 30180, 30380, 30580, 30780, 30980,\n",
       "       31180, 31380, 31580, 31780, 31980, 32180, 32380, 32580, 32780,\n",
       "       32980, 33180, 33380, 33580, 33780, 33980, 34180, 34380, 34580,\n",
       "       34780, 34980, 35180, 35380, 35580, 35780, 35980, 36180, 36380,\n",
       "       36580, 36780, 36980, 37180, 37380, 37580, 37780, 37980, 38180,\n",
       "       38380, 38580, 38780, 38980, 39180, 39380, 39580, 39780, 39980,\n",
       "       40180, 40380, 40580, 40780, 40980, 41180, 41380, 41580, 41780,\n",
       "       41980, 42180, 42380, 42580, 42780, 42980, 43180, 43380, 43580,\n",
       "       43780, 43980, 44180, 44380, 44580, 44780, 44980, 45180, 45380,\n",
       "       45580, 45780, 45980, 46180, 46380, 46580, 46780, 46980, 47180,\n",
       "       47380, 47580, 47780, 47980, 48180, 48380, 48580, 48780, 48980,\n",
       "       49180, 49380, 49580, 49780, 49980, 50180, 50380, 50580, 50780,\n",
       "       50980, 51180, 51380, 51580, 51780, 51980, 52180, 52380, 52580,\n",
       "       52780, 52980, 53180, 53380, 53580, 53780, 53980, 54180, 54380,\n",
       "       54580, 54780, 54980, 55180, 55380, 55580, 55780, 55980, 56180,\n",
       "       56380, 56580, 56780, 56980, 57180, 57380, 57580, 57780, 57980,\n",
       "       58180, 58380, 58580, 58780, 58980, 59180, 59380, 59580, 59780,\n",
       "       59980, 60180, 60380, 60580, 60780, 60980, 61180, 61380, 61580,\n",
       "       61780, 61980, 62180, 62380, 62580, 62780, 62980, 63180, 63380,\n",
       "       63580, 63780, 63980, 64180, 64380, 64580, 64780, 64980, 65180,\n",
       "       65380, 65580, 65780, 65980, 66180, 66380, 66580, 66780, 66980,\n",
       "       67180, 67380, 67580, 67780, 67980, 68180, 68380, 68580, 68780,\n",
       "       68980, 69180, 69380, 69580, 69780, 69980, 70180, 70380, 70580,\n",
       "       70780, 70980, 71180, 71380, 71580, 71780, 71980, 72180, 72380,\n",
       "       72580, 72780, 72980, 73180, 73380, 73580, 73780, 73980, 74180,\n",
       "       74380, 74580, 74780, 74980, 75180, 75380, 75580, 75780, 75980,\n",
       "       76180, 76380, 76580, 76780, 76980, 77180, 77380, 77580, 77780,\n",
       "       77980, 78180, 78380, 78580, 78780, 78980, 79180, 79380, 79580,\n",
       "       79780, 79980, 80180, 80380, 80580, 80780, 80980, 81180, 81380,\n",
       "       81580, 81780, 81980, 82180, 82380, 82580, 82780, 82980, 83180,\n",
       "       83380, 83580, 83780, 83980, 84180, 84380, 84580, 84780, 84980,\n",
       "       85180, 85380, 85580, 85780, 85980, 86180, 86380, 86580, 86780,\n",
       "       86980, 87180, 87380, 87580, 87780, 87980, 88180, 88380, 88580,\n",
       "       88780, 88980, 89180, 89380, 89580, 89780, 89980, 90180, 90380,\n",
       "       90580, 90780, 90980, 91180, 91380, 91580, 91780, 91980, 92180,\n",
       "       92380, 92580, 92780, 92980, 93180, 93380, 93580, 93780, 93980,\n",
       "       94180, 94380, 94580, 94780, 94980, 95180, 95380, 95580, 95780,\n",
       "       95980, 96180, 96380, 96580, 96780])"
      ]
     },
     "execution_count": 185,
     "metadata": {},
     "output_type": "execute_result"
    }
   ],
   "source": [
    "np.cumsum(np.sort(np.clip(arr,100,200)))"
   ]
  },
  {
   "cell_type": "markdown",
   "id": "8c0aa1be",
   "metadata": {},
   "source": [
    "### `Q-9:` You are given a array ($arr ∈ [0, 1]$). First you have round off the elements upto 3 decimal places and compare that\n",
    "- 0th percentile == minimum value of the array\n",
    "- 100th percentile == maximum value of the array\n",
    "- also find the difference betwen 51th percenile and 50th percentile values"
   ]
  },
  {
   "cell_type": "code",
   "execution_count": 190,
   "id": "1d491b8b",
   "metadata": {
    "scrolled": true
   },
   "outputs": [
    {
     "data": {
      "text/plain": [
       "array([0.   , 0.026, 0.051, 0.077, 0.103, 0.128, 0.154, 0.179, 0.205,\n",
       "       0.231, 0.256, 0.282, 0.308, 0.333, 0.359, 0.385, 0.41 , 0.436,\n",
       "       0.462, 0.487, 0.513, 0.538, 0.564, 0.59 , 0.615, 0.641, 0.667,\n",
       "       0.692, 0.718, 0.744, 0.769, 0.795, 0.821, 0.846, 0.872, 0.897,\n",
       "       0.923, 0.949, 0.974, 1.   ])"
      ]
     },
     "execution_count": 190,
     "metadata": {},
     "output_type": "execute_result"
    }
   ],
   "source": [
    "arr = np.round(np.linspace(0,1,40),3)\n",
    "arr"
   ]
  },
  {
   "cell_type": "code",
   "execution_count": 195,
   "id": "d015418d",
   "metadata": {
    "scrolled": true
   },
   "outputs": [
    {
     "data": {
      "text/plain": [
       "True"
      ]
     },
     "execution_count": 195,
     "metadata": {},
     "output_type": "execute_result"
    }
   ],
   "source": [
    "np.percentile(arr,0) == arr.min()"
   ]
  },
  {
   "cell_type": "code",
   "execution_count": 196,
   "id": "531c77fe",
   "metadata": {},
   "outputs": [
    {
     "data": {
      "text/plain": [
       "True"
      ]
     },
     "execution_count": 196,
     "metadata": {},
     "output_type": "execute_result"
    }
   ],
   "source": [
    "np.percentile(arr,100) == arr.max()"
   ]
  },
  {
   "cell_type": "code",
   "execution_count": 193,
   "id": "ef236b29",
   "metadata": {},
   "outputs": [
    {
     "data": {
      "text/plain": [
       "0.010140000000000038"
      ]
     },
     "execution_count": 193,
     "metadata": {},
     "output_type": "execute_result"
    }
   ],
   "source": [
    "np.percentile(arr,51) - np.percentile(arr,50)"
   ]
  },
  {
   "cell_type": "code",
   "execution_count": null,
   "id": "32537ca6",
   "metadata": {},
   "outputs": [],
   "source": []
  }
 ],
 "metadata": {
  "kernelspec": {
   "display_name": "Python 3 (ipykernel)",
   "language": "python",
   "name": "python3"
  },
  "language_info": {
   "codemirror_mode": {
    "name": "ipython",
    "version": 3
   },
   "file_extension": ".py",
   "mimetype": "text/x-python",
   "name": "python",
   "nbconvert_exporter": "python",
   "pygments_lexer": "ipython3",
   "version": "3.8.16"
  }
 },
 "nbformat": 4,
 "nbformat_minor": 5
}
