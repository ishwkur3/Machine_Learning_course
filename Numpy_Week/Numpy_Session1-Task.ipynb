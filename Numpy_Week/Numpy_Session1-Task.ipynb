{
 "cells": [
  {
   "cell_type": "code",
   "execution_count": 1,
   "id": "baa62e06",
   "metadata": {},
   "outputs": [],
   "source": [
    "import numpy as np"
   ]
  },
  {
   "cell_type": "markdown",
   "id": "4abac09a",
   "metadata": {},
   "source": [
    "### `Q-1` Create a null vector of size 10 but the fifth value which is 1."
   ]
  },
  {
   "cell_type": "code",
   "execution_count": 72,
   "id": "f5995cb6",
   "metadata": {},
   "outputs": [],
   "source": [
    "null = np.empty(10)\n",
    "null[4] = 1"
   ]
  },
  {
   "cell_type": "code",
   "execution_count": 6,
   "id": "a86e0634",
   "metadata": {},
   "outputs": [
    {
     "data": {
      "text/plain": [
       "array([0., 0., 0., 0., 1., 0., 0., 0., 0., 0.])"
      ]
     },
     "execution_count": 6,
     "metadata": {},
     "output_type": "execute_result"
    }
   ],
   "source": [
    "null"
   ]
  },
  {
   "cell_type": "markdown",
   "id": "985bd584",
   "metadata": {},
   "source": [
    "### `Q-2` Ask user to input two numbers a, b. Write a program to generate a random array of shape (a, b) and print the array and avg of the array."
   ]
  },
  {
   "cell_type": "code",
   "execution_count": 23,
   "id": "dfc7d10e",
   "metadata": {},
   "outputs": [
    {
     "name": "stdout",
     "output_type": "stream",
     "text": [
      "Please enter the number: 2 4\n",
      "[[0.35540995 0.09738523 0.03362225 0.65964848]\n",
      " [0.35221234 0.80028359 0.48268654 0.86503678]]\n",
      "0.4557856438672382\n"
     ]
    }
   ],
   "source": [
    "a,b = map(int, input(\"Please enter the number: \").split())\n",
    "array = np.random.random((a,b))\n",
    "print(array)\n",
    "print(array.mean())"
   ]
  },
  {
   "cell_type": "markdown",
   "id": "827ccc5c",
   "metadata": {},
   "source": [
    "### `Q-3` Write a function to create a 2d array with 1 on the border and 0 inside. Take 2-D array shape as (a,b) as parameter to function."
   ]
  },
  {
   "cell_type": "code",
   "execution_count": 70,
   "id": "de66f32f",
   "metadata": {},
   "outputs": [
    {
     "name": "stdout",
     "output_type": "stream",
     "text": [
      "[[1. 1. 1. 1.]\n",
      " [1. 0. 0. 1.]\n",
      " [1. 0. 0. 1.]\n",
      " [1. 1. 1. 1.]]\n"
     ]
    }
   ],
   "source": [
    "def array_creation(a,b):\n",
    "    array1 = np.ones((a,b))\n",
    "    array1[1:-1,1:-1] = 0\n",
    "    print(array1)\n",
    "\n",
    "array_creation(4,4)"
   ]
  },
  {
   "cell_type": "markdown",
   "id": "cc5289ea",
   "metadata": {},
   "source": [
    "### `Q-4` Create a vector of size 10 with values ranging from 0 to 1, both excluded.\n"
   ]
  },
  {
   "cell_type": "code",
   "execution_count": 77,
   "id": "2760d2e9",
   "metadata": {},
   "outputs": [
    {
     "data": {
      "text/plain": [
       "array([0.09090909, 0.18181818, 0.27272727, 0.36363636, 0.45454545,\n",
       "       0.54545455, 0.63636364, 0.72727273, 0.81818182, 0.90909091])"
      ]
     },
     "execution_count": 77,
     "metadata": {},
     "output_type": "execute_result"
    }
   ],
   "source": [
    "arr = np.linspace(0,1,12)[1:-1]\n",
    "arr"
   ]
  },
  {
   "cell_type": "markdown",
   "id": "9722113f",
   "metadata": {},
   "source": [
    "### `Q-5` Can you create a identity mattrix of shape (3,4). If yes write code for it."
   ]
  },
  {
   "cell_type": "code",
   "execution_count": 85,
   "id": "ec7063aa",
   "metadata": {},
   "outputs": [],
   "source": [
    "# Cannot create the matrix as there is not 3,4 matrix"
   ]
  },
  {
   "cell_type": "markdown",
   "id": "8cb66c51",
   "metadata": {},
   "source": [
    "### `Q-6:` Create a 5x5 matrix with row values ranging from 0 to 4."
   ]
  },
  {
   "cell_type": "code",
   "execution_count": 92,
   "id": "eb40ec86",
   "metadata": {},
   "outputs": [
    {
     "data": {
      "text/plain": [
       "array([[0, 1, 2, 3, 4],\n",
       "       [0, 1, 2, 3, 4],\n",
       "       [0, 1, 2, 3, 4],\n",
       "       [0, 1, 2, 3, 4],\n",
       "       [0, 1, 2, 3, 4]])"
      ]
     },
     "execution_count": 92,
     "metadata": {},
     "output_type": "execute_result"
    }
   ],
   "source": [
    "arr = np.arange(0,5)\n",
    "np.vstack((arr,arr,arr,arr,arr))"
   ]
  },
  {
   "cell_type": "markdown",
   "id": "bfe8655b",
   "metadata": {},
   "source": [
    "### `Q-7:`  Consider a random integer (in range 1 to 100) vector with shape `(10,2)` representing coordinates, and coordinates of a point as array is given. Create an array of distance of each point in the random vectros from the given point. Distance array should be interger type.\n",
    "\n",
    "```\n",
    "point = np.array([2,3]) \n",
    "```\n"
   ]
  },
  {
   "cell_type": "code",
   "execution_count": 109,
   "id": "69b4d974",
   "metadata": {},
   "outputs": [
    {
     "data": {
      "text/plain": [
       "array([[36, 38],\n",
       "       [14, 96],\n",
       "       [96, 90],\n",
       "       [98, 25],\n",
       "       [80, 89],\n",
       "       [39, 56],\n",
       "       [ 5, 70],\n",
       "       [54, 28],\n",
       "       [23, 79],\n",
       "       [93, 34]])"
      ]
     },
     "execution_count": 109,
     "metadata": {},
     "output_type": "execute_result"
    }
   ],
   "source": [
    "a = np.random.randint(1,100 ,(10,2))\n",
    "p = np.array([2,3])\n",
    "a"
   ]
  },
  {
   "cell_type": "code",
   "execution_count": 110,
   "id": "10f7702f",
   "metadata": {},
   "outputs": [
    {
     "data": {
      "text/plain": [
       "array([ 48,  93, 128,  98, 116,  64,  67,  57,  78,  96])"
      ]
     },
     "execution_count": 110,
     "metadata": {},
     "output_type": "execute_result"
    }
   ],
   "source": [
    "(np.sum(((a-p)**2),axis=1)**0.5).astype(int)"
   ]
  },
  {
   "cell_type": "markdown",
   "id": "b73baab6",
   "metadata": {},
   "source": [
    "### `Q-8:` Consider a (6,7,8) shape array, what is the index (x,y,z) of the 100th element?"
   ]
  },
  {
   "cell_type": "code",
   "execution_count": 122,
   "id": "6b4066a4",
   "metadata": {},
   "outputs": [
    {
     "data": {
      "text/plain": [
       "array([[[0.33787638, 0.34617386, 0.00396924, 0.807662  , 0.64795512,\n",
       "         0.28470992, 0.60955775, 0.77733583],\n",
       "        [0.73568338, 0.93525096, 0.57207827, 0.98867058, 0.00800218,\n",
       "         0.21203062, 0.52944666, 0.58386853],\n",
       "        [0.01009546, 0.97124108, 0.92519065, 0.31252797, 0.85694748,\n",
       "         0.81704232, 0.88084361, 0.18485885],\n",
       "        [0.53633227, 0.73676387, 0.3267117 , 0.63775891, 0.33584687,\n",
       "         0.26897291, 0.47943096, 0.43088175],\n",
       "        [0.42305375, 0.97299614, 0.69810826, 0.35819604, 0.5097238 ,\n",
       "         0.2118261 , 0.29618848, 0.08376333],\n",
       "        [0.91671313, 0.31201776, 0.6770577 , 0.09523822, 0.14007895,\n",
       "         0.5492539 , 0.86383586, 0.47750689],\n",
       "        [0.1774179 , 0.14982222, 0.04874099, 0.88424795, 0.15029369,\n",
       "         0.34678504, 0.26127502, 0.79425544]],\n",
       "\n",
       "       [[0.02645573, 0.09457597, 0.0670498 , 0.87177796, 0.98919716,\n",
       "         0.89569961, 0.80605229, 0.86125516],\n",
       "        [0.61046897, 0.15490568, 0.26540507, 0.73883404, 0.59979203,\n",
       "         0.89609746, 0.02293148, 0.56033876],\n",
       "        [0.72073257, 0.70514116, 0.45483529, 0.4713528 , 0.19909275,\n",
       "         0.19349502, 0.10082619, 0.8224431 ],\n",
       "        [0.9390456 , 0.94682381, 0.01463257, 0.74400468, 0.91517642,\n",
       "         0.1188286 , 0.65539618, 0.20032898],\n",
       "        [0.86833211, 0.12413636, 0.45125061, 0.36286102, 0.70648328,\n",
       "         0.49935353, 0.61949793, 0.56603756],\n",
       "        [0.94403659, 0.88843434, 0.80961287, 0.6420781 , 0.87753498,\n",
       "         0.5036473 , 0.19102206, 0.02622421],\n",
       "        [0.46710517, 0.90443287, 0.77959177, 0.86705368, 0.1456394 ,\n",
       "         0.02075512, 0.5896187 , 0.92541869]],\n",
       "\n",
       "       [[0.9497182 , 0.22584205, 0.66706717, 0.61838113, 0.00502317,\n",
       "         0.58156273, 0.00813123, 0.70299264],\n",
       "        [0.61759564, 0.04842089, 0.33568297, 0.55219974, 0.96880171,\n",
       "         0.88127182, 0.77066473, 0.40018144],\n",
       "        [0.7846239 , 0.64579308, 0.69953247, 0.01677992, 0.26077853,\n",
       "         0.78833448, 0.69118423, 0.34351943],\n",
       "        [0.4743791 , 0.30005782, 0.83919697, 0.06764435, 0.38708254,\n",
       "         0.81547514, 0.37258254, 0.30110936],\n",
       "        [0.56579865, 0.55933782, 0.09978635, 0.56541711, 0.43436181,\n",
       "         0.2750669 , 0.47729605, 0.8390725 ],\n",
       "        [0.08252659, 0.23308268, 0.30907358, 0.91846282, 0.23375385,\n",
       "         0.85454505, 0.25936932, 0.9594359 ],\n",
       "        [0.99987257, 0.29481575, 0.08222156, 0.78405193, 0.7791334 ,\n",
       "         0.40016374, 0.3947748 , 0.51727114]],\n",
       "\n",
       "       [[0.71354344, 0.65649638, 0.31263152, 0.23646047, 0.71156315,\n",
       "         0.20678278, 0.66892344, 0.67431671],\n",
       "        [0.42803757, 0.3883695 , 0.76423648, 0.19934413, 0.50138687,\n",
       "         0.01626095, 0.95023397, 0.08071082],\n",
       "        [0.54144852, 0.9899823 , 0.05346879, 0.86438452, 0.13417662,\n",
       "         0.15359774, 0.35992111, 0.046679  ],\n",
       "        [0.67036534, 0.67580515, 0.40754728, 0.13876573, 0.1239306 ,\n",
       "         0.0522717 , 0.38310341, 0.42997556],\n",
       "        [0.36522544, 0.45167026, 0.77801317, 0.78179591, 0.23666199,\n",
       "         0.80710436, 0.21561344, 0.24482018],\n",
       "        [0.92983606, 0.23951552, 0.87679565, 0.3809354 , 0.98331485,\n",
       "         0.88157338, 0.3377076 , 0.77876385],\n",
       "        [0.93321062, 0.55984759, 0.87379775, 0.37095267, 0.82403176,\n",
       "         0.70419473, 0.42949981, 0.03448039]],\n",
       "\n",
       "       [[0.06473901, 0.40769486, 0.57993408, 0.85439579, 0.51707564,\n",
       "         0.85741247, 0.30972517, 0.64489723],\n",
       "        [0.64574065, 0.28919779, 0.61775134, 0.91832172, 0.67005862,\n",
       "         0.42685448, 0.02912646, 0.86118361],\n",
       "        [0.14343544, 0.53094103, 0.87388196, 0.76273318, 0.99851444,\n",
       "         0.41036692, 0.83974234, 0.83282548],\n",
       "        [0.38934795, 0.88677747, 0.58708006, 0.96493421, 0.62407629,\n",
       "         0.81041084, 0.9488132 , 0.48776434],\n",
       "        [0.09455677, 0.55961623, 0.64166737, 0.3053043 , 0.25341216,\n",
       "         0.5009628 , 0.03557691, 0.49311293],\n",
       "        [0.93314821, 0.85619534, 0.08082782, 0.9578946 , 0.54380851,\n",
       "         0.80563268, 0.69451617, 0.06681744],\n",
       "        [0.8637748 , 0.45226159, 0.10711392, 0.66165159, 0.80028919,\n",
       "         0.8246572 , 0.58656836, 0.45996556]],\n",
       "\n",
       "       [[0.9033703 , 0.64134078, 0.34167104, 0.99563992, 0.61904565,\n",
       "         0.60888932, 0.54323615, 0.09157177],\n",
       "        [0.79167005, 0.21561858, 0.86595992, 0.50994688, 0.94090245,\n",
       "         0.22081671, 0.53828818, 0.3658781 ],\n",
       "        [0.57979624, 0.46612814, 0.92122389, 0.74016805, 0.16734079,\n",
       "         0.16028048, 0.08723556, 0.83041888],\n",
       "        [0.21285524, 0.82388769, 0.79099554, 0.43889386, 0.58445957,\n",
       "         0.56702284, 0.48905232, 0.71485568],\n",
       "        [0.9117473 , 0.15717128, 0.80895126, 0.44977582, 0.65527669,\n",
       "         0.47826679, 0.11436307, 0.63448155],\n",
       "        [0.67540124, 0.47939663, 0.1587389 , 0.70511006, 0.78700324,\n",
       "         0.28820846, 0.78226402, 0.3414968 ],\n",
       "        [0.49640938, 0.16847343, 0.65013759, 0.46828097, 0.69253636,\n",
       "         0.83920764, 0.82691162, 0.72133407]]])"
      ]
     },
     "execution_count": 122,
     "metadata": {},
     "output_type": "execute_result"
    }
   ],
   "source": [
    "arr = np.random.rand(6,7,8)\n",
    "arr"
   ]
  },
  {
   "cell_type": "code",
   "execution_count": 123,
   "id": "b1fb40d1",
   "metadata": {},
   "outputs": [
    {
     "data": {
      "text/plain": [
       "0.642078097039922"
      ]
     },
     "execution_count": 123,
     "metadata": {},
     "output_type": "execute_result"
    }
   ],
   "source": [
    "np.ravel(arr)[99]"
   ]
  },
  {
   "cell_type": "markdown",
   "id": "db7b8ce7",
   "metadata": {},
   "source": [
    "### `Q-9:` Arrays\n",
    "\n",
    "You are given a space separated list of numbers. Your task is to print a reversed NumPy array with the element type float.\n",
    "\n"
   ]
  },
  {
   "cell_type": "markdown",
   "id": "5b731f52",
   "metadata": {},
   "source": [
    "**Input Format:**\n",
    "\n",
    "A single line of input containing space separated numbers.\n",
    "\n",
    "**Output Format:**\n",
    "\n",
    "Print the reverse NumPy array with type float.\n",
    "\n",
    "**Example 1:**\n",
    "\n",
    "Input:\n",
    "\n",
    "```bash\n",
    "1 2 3 4 -8 -10\n",
    "```\n",
    "\n",
    "Output:\n",
    "\n",
    "```bash\n",
    "[-10.  -8.   4.   3.   2.   1.]\n",
    "```"
   ]
  },
  {
   "cell_type": "code",
   "execution_count": 134,
   "id": "8aa5099f",
   "metadata": {},
   "outputs": [],
   "source": [
    "numbers = \"1 2 3 4 -8 -10\"\n",
    "\n",
    "num = np.array(list(map(float,numbers.split())))"
   ]
  },
  {
   "cell_type": "code",
   "execution_count": 135,
   "id": "8c2b1b7a",
   "metadata": {},
   "outputs": [
    {
     "data": {
      "text/plain": [
       "array([-10.,  -8.,   4.,   3.,   2.,   1.])"
      ]
     },
     "execution_count": 135,
     "metadata": {},
     "output_type": "execute_result"
    }
   ],
   "source": [
    "num[::-1]"
   ]
  },
  {
   "cell_type": "markdown",
   "id": "bed775a9",
   "metadata": {},
   "source": [
    "### `Q-10:` Elements count\n",
    "\n",
    "Count the number of elements of a numpy array.\n",
    "\n"
   ]
  },
  {
   "cell_type": "markdown",
   "id": "cb5ac81d",
   "metadata": {},
   "source": [
    "**Example 1:**\n",
    "\n",
    "Input:\n",
    "```bash\n",
    "np.array([])\n",
    "```\n",
    "\n",
    "Output:\n",
    "```bash\n",
    "elements_count :  0\n",
    "```\n",
    "\n",
    "**Example 2:**\n",
    "\n",
    "Input:\n",
    "```bash\n",
    "np.array([1, 2])\n",
    "```\n",
    "\n",
    "Output:\n",
    "```bash\n",
    "elements_count :  2\n",
    "```"
   ]
  },
  {
   "cell_type": "code",
   "execution_count": 136,
   "id": "e9353aee",
   "metadata": {},
   "outputs": [
    {
     "data": {
      "text/plain": [
       "6"
      ]
     },
     "execution_count": 136,
     "metadata": {},
     "output_type": "execute_result"
    }
   ],
   "source": [
    "a = np.array([2,35,2,5,7,8])\n",
    "np.size(a)"
   ]
  },
  {
   "cell_type": "markdown",
   "id": "d7623349",
   "metadata": {},
   "source": [
    "### `Q-11:` Softmax function\n",
    "\n",
    "Create a Python function to calculate the Softmax of the given numpy 1D array. The function only accepts the numpy 1D array, otherwise raise error.\n",
    "\n",
    "$$\\Large \\sigma(\\vec z)_i = \\frac{e^{z_i}}{\\sum_{j=i}^{K}{e^{z_j}}}$$\n",
    "\n",
    "https://en.wikipedia.org/wiki/Softmax_function\n",
    "\n"
   ]
  },
  {
   "cell_type": "markdown",
   "id": "a7b3ec0c",
   "metadata": {},
   "source": [
    "**Example 1:**\n",
    "\n",
    "Input:\n",
    "```bash\n",
    "[86.03331084 37.7285648  48.64908087 87.16563062 38.40852563 37.20006318]\n",
    "```\n",
    "\n",
    "Output:\n",
    "```bash\n",
    "[2.43733249e-01, 2.56112115e-22, 1.41628284e-17, 7.56266751e-01, \n",
    "       5.05514197e-22, 1.50974911e-22]\n",
    "```\n",
    "\n",
    "**Example 2:**\n",
    "\n",
    "Input:\n",
    "```bash\n",
    "[33.17344305 45.61961654 82.05405781 80.9647098  68.82830233 91.52064278]\n",
    "```\n",
    "\n",
    "Output:\n",
    "```bash\n",
    "[4.57181035e-26, 1.16249923e-20, 7.73872596e-05, 2.60358426e-05,\n",
    "       1.39571531e-10, 9.99896577e-01]\n",
    "```"
   ]
  },
  {
   "cell_type": "code",
   "execution_count": 157,
   "id": "67d00de8",
   "metadata": {},
   "outputs": [
    {
     "name": "stdout",
     "output_type": "stream",
     "text": [
      "[2.43733248e-01 2.56112114e-22 1.41628283e-17 7.56266752e-01\n",
      " 5.05514197e-22 1.50974911e-22]\n"
     ]
    }
   ],
   "source": [
    "def softmax(arr):\n",
    "    if type(arr) != np.ndarray:\n",
    "        raise TypeError(\"The given array is not numpy array\")\n",
    "    elif np.ndim(arr) > 1:\n",
    "        raise TypeError(\"Enter the 1D array\")\n",
    "    arr = (np.exp(arr))/(np.sum(np.exp(arr)))\n",
    "    print(arr)\n",
    "    \n",
    "softmax(np.array([86.03331084, 37.7285648, 48.64908087, 87.16563062, 38.40852563, 37.20006318]))"
   ]
  },
  {
   "cell_type": "markdown",
   "id": "b1cf416a",
   "metadata": {},
   "source": [
    "### `Q-12:` Vertical stack\n",
    "\n",
    "Write a python function that accepts infinite number of numpy arrays and do the vertical stack to them. Then return that new array as result. The function only accepts the numpy array, otherwise raise error.\n",
    "\n"
   ]
  },
  {
   "cell_type": "markdown",
   "id": "81f61ecc",
   "metadata": {},
   "source": [
    "**Example 1:**\n",
    "\n",
    "Input:\n",
    "```bash\n",
    "a= [[0 1 2 3 4]\n",
    " [5 6 7 8 9]]\n",
    "\n",
    "b= [[1 1 1 1 1]\n",
    " [1 1 1 1 1]]\n",
    "```\n",
    "\n",
    "Output:\n",
    "\n",
    "```bash\n",
    "[[0 1 2 3 4]\n",
    " [5 6 7 8 9]\n",
    " [1 1 1 1 1]\n",
    " [1 1 1 1 1]]\n",
    "```\n",
    "\n",
    "**Example 2:**\n",
    "\n",
    "Input:\n",
    "```bash\n",
    "a= [[0 1 2 3 4]\n",
    " [5 6 7 8 9]]\n",
    "\n",
    "b= [[1 1 1 1 1]\n",
    " [1 1 1 1 1]]\n",
    "\n",
    "c= [[0.10117373 0.1677244  0.73764059 0.83166097 0.48985695]\n",
    " [0.44581567 0.13502419 0.55692335 0.16479622 0.61193593]] \n",
    "```\n",
    "\n",
    "Output:\n",
    "```bash\n",
    "[[0.         1.         2.         3.         4.        ]\n",
    " [5.         6.         7.         8.         9.        ]\n",
    " [1.         1.         1.         1.         1.        ]\n",
    " [1.         1.         1.         1.         1.        ]\n",
    " [0.10117373 0.1677244  0.73764059 0.83166097 0.48985695]\n",
    " [0.44581567 0.13502419 0.55692335 0.16479622 0.61193593]]\n",
    "```"
   ]
  },
  {
   "cell_type": "code",
   "execution_count": 178,
   "id": "43fede3c",
   "metadata": {},
   "outputs": [
    {
     "name": "stdout",
     "output_type": "stream",
     "text": [
      "[[1. 0. 0. 0. 0.]\n",
      " [0. 1. 0. 0. 0.]\n",
      " [0. 0. 1. 0. 0.]\n",
      " [0. 0. 0. 1. 0.]\n",
      " [0. 0. 0. 0. 1.]]\n",
      "[[0 1 2 3 4]\n",
      " [5 6 7 8 9]]\n",
      "[[1. 0. 0. 0. 0.]\n",
      " [0. 1. 0. 0. 0.]\n",
      " [0. 0. 1. 0. 0.]\n",
      " [0. 0. 0. 1. 0.]\n",
      " [0. 0. 0. 0. 1.]\n",
      " [0. 1. 2. 3. 4.]\n",
      " [5. 6. 7. 8. 9.]]\n"
     ]
    }
   ],
   "source": [
    "def vertical_stack(x,y):\n",
    "    if type(x) != np.ndarray and type(y) != np.ndarray:\n",
    "        raise TypeError(\"parameter passed is not numpy array\")\n",
    "    arr = np.vstack((x,y))\n",
    "    print(arr)\n",
    "    \n",
    "a = np.identity(5)\n",
    "b = np.arange(0,10).reshape(2,5)\n",
    "print(a)\n",
    "print(b)\n",
    "vertical_stack(a,b)"
   ]
  },
  {
   "cell_type": "markdown",
   "id": "ae184836",
   "metadata": {},
   "source": [
    "### `Q-13:` Dates\n",
    "\n",
    "Create a python function named **date_array** that accepts two dates as string format and returns a numpy array of dates between those 2 dates. The function only accept 2 strings, otherwise raise error. The date format should be like this only: `2022-12-6`. The end date should be included and for simplicity, choose dates from a same year.\n",
    "\n"
   ]
  },
  {
   "cell_type": "markdown",
   "id": "a4c5b52e",
   "metadata": {},
   "source": [
    "**Example 1:**\n",
    "\n",
    "Input:\n",
    "```bash\n",
    "date_array(start = '2020-09-15', end = '2020-09-25')\n",
    "```\n",
    "\n",
    "Output:\n",
    "```bash\n",
    "['2020-09-15', '2020-09-16', '2020-09-17', '2020-09-18',\n",
    " '2020-09-19', '2020-09-20', '2020-09-21', '2020-09-22',\n",
    " '2020-09-23', '2020-09-24', '2020-09-25']\n",
    "```\n",
    "\n",
    "**Example 2:**\n",
    "\n",
    "Input:\n",
    "```bash\n",
    "date_array(start = '2022-12-01', end = '2022-12-06')\n",
    "```\n",
    "\n",
    "Output:\n",
    "```bash\n",
    "['2022-12-01', '2022-12-02', '2022-12-03', '2022-12-04', '2022-12-05', '2022-12-06']\n",
    "```\n",
    "\n",
    "**Example 3:**\n",
    "\n",
    "Input:\n",
    "```bash\n",
    "date_array(start = '2020-11-25', end = '2020-11-30')\n",
    "```\n",
    "\n",
    "Output:\n",
    "```bash\n",
    "['2020-11-25', '2020-11-26', '2020-11-27', '2020-11-28',\n",
    " '2020-11-29', '2020-11-30']\n",
    "```"
   ]
  },
  {
   "cell_type": "code",
   "execution_count": 199,
   "id": "8bc85ec6",
   "metadata": {},
   "outputs": [
    {
     "data": {
      "text/plain": [
       "array(['2022-10-22', '2022-10-23', '2022-10-24', '2022-10-25',\n",
       "       '2022-10-26', '2022-10-27', '2022-10-28', '2022-10-29',\n",
       "       '2022-10-30', '2022-10-31', '2022-11-01', '2022-11-02',\n",
       "       '2022-11-03', '2022-11-04', '2022-11-05', '2022-11-06',\n",
       "       '2022-11-07', '2022-11-08', '2022-11-09', '2022-11-10',\n",
       "       '2022-11-11', '2022-11-12', '2022-11-13', '2022-11-14',\n",
       "       '2022-11-15', '2022-11-16', '2022-11-17', '2022-11-18',\n",
       "       '2022-11-19', '2022-11-20', '2022-11-21', '2022-11-22',\n",
       "       '2022-11-23', '2022-11-24', '2022-11-25', '2022-11-26',\n",
       "       '2022-11-27', '2022-11-28', '2022-11-29', '2022-11-30',\n",
       "       '2022-12-01', '2022-12-02', '2022-12-03', '2022-12-04',\n",
       "       '2022-12-05', '2022-12-06', '2022-12-07', '2022-12-08',\n",
       "       '2022-12-09', '2022-12-10', '2022-12-11', '2022-12-12',\n",
       "       '2022-12-13', '2022-12-14', '2022-12-15', '2022-12-16',\n",
       "       '2022-12-17', '2022-12-18', '2022-12-19', '2022-12-20',\n",
       "       '2022-12-21', '2022-12-22', '2022-12-23', '2022-12-24',\n",
       "       '2022-12-25', '2022-12-26', '2022-12-27', '2022-12-28',\n",
       "       '2022-12-29', '2022-12-30', '2022-12-31', '2023-01-01',\n",
       "       '2023-01-02', '2023-01-03', '2023-01-04'], dtype='datetime64[D]')"
      ]
     },
     "execution_count": 199,
     "metadata": {},
     "output_type": "execute_result"
    }
   ],
   "source": [
    "def date_array(start= str, end=str):\n",
    "    if type(start) and type(end) != str:\n",
    "        raise TypeError(\"The given parameter should be string only\")\n",
    "    return np.arange(start, end ,dtype= 'datetime64[D]')\n",
    "date_array('2022-10-22','2023-01-05')"
   ]
  },
  {
   "cell_type": "markdown",
   "id": "b946de30",
   "metadata": {},
   "source": [
    "### `Q-14:` Subtract the mean of each row from a matrix."
   ]
  },
  {
   "cell_type": "code",
   "execution_count": 239,
   "id": "32586cdd",
   "metadata": {},
   "outputs": [
    {
     "name": "stdout",
     "output_type": "stream",
     "text": [
      "[[0 1]\n",
      " [2 3]\n",
      " [4 5]\n",
      " [6 7]]\n"
     ]
    },
    {
     "data": {
      "text/plain": [
       "array([[-0.5,  0.5],\n",
       "       [-0.5,  0.5],\n",
       "       [-0.5,  0.5],\n",
       "       [-0.5,  0.5]])"
      ]
     },
     "execution_count": 239,
     "metadata": {},
     "output_type": "execute_result"
    }
   ],
   "source": [
    "a = np.arange(8).reshape(4,2)\n",
    "print(a)\n",
    "a-np.mean(a,axis=1,keepdims=True)"
   ]
  },
  {
   "cell_type": "markdown",
   "id": "e6d40973",
   "metadata": {},
   "source": [
    "### `Q-15:` Swap column-1 of array with column-2 in the array."
   ]
  },
  {
   "cell_type": "code",
   "execution_count": 214,
   "id": "22a9a8e1",
   "metadata": {},
   "outputs": [
    {
     "data": {
      "text/plain": [
       "array([[0.69772949, 0.36129734, 0.25371858, 0.45947048],\n",
       "       [0.30180989, 0.80476802, 0.28296169, 0.54868618],\n",
       "       [0.46597933, 0.81843819, 0.71745917, 0.50644264]])"
      ]
     },
     "execution_count": 214,
     "metadata": {},
     "output_type": "execute_result"
    }
   ],
   "source": [
    "arr = np.random.rand(3,4)\n",
    "arr"
   ]
  },
  {
   "cell_type": "code",
   "execution_count": 240,
   "id": "9f877515",
   "metadata": {},
   "outputs": [
    {
     "data": {
      "text/plain": [
       "array([[0.69772949, 0.25371858, 0.36129734, 0.45947048],\n",
       "       [0.30180989, 0.28296169, 0.80476802, 0.54868618],\n",
       "       [0.46597933, 0.71745917, 0.81843819, 0.50644264]])"
      ]
     },
     "execution_count": 240,
     "metadata": {},
     "output_type": "execute_result"
    }
   ],
   "source": [
    "arr[:,[0,2,1,3]]"
   ]
  },
  {
   "cell_type": "markdown",
   "id": "47afc5d6",
   "metadata": {},
   "source": [
    "### `Q-16:` Replace odd elements in arrays with -1."
   ]
  },
  {
   "cell_type": "code",
   "execution_count": 247,
   "id": "783db7a1",
   "metadata": {},
   "outputs": [
    {
     "data": {
      "text/plain": [
       "array([ 0, -1,  2, -1,  4, -1,  6, -1,  8, -1, 10, -1, 12])"
      ]
     },
     "execution_count": 247,
     "metadata": {},
     "output_type": "execute_result"
    }
   ],
   "source": [
    "a = np.arange(13)\n",
    "a[a%2 == 1] = -1\n",
    "a"
   ]
  },
  {
   "cell_type": "markdown",
   "id": "6bd5849c",
   "metadata": {},
   "source": [
    "### `Q-17:` Given two arrays of same shape make an array of max out of two arrays. (Numpy way)\n",
    "```\n",
    "a=np.array([6,3,1,5,8])\n",
    "b=np.array([3,2,1,7,2])\n",
    "\n",
    "Result-> [6 3 1 7 8]\n",
    "``` "
   ]
  },
  {
   "cell_type": "code",
   "execution_count": 278,
   "id": "916830ec",
   "metadata": {},
   "outputs": [
    {
     "data": {
      "text/plain": [
       "array([6, 3, 1, 7, 8])"
      ]
     },
     "execution_count": 278,
     "metadata": {},
     "output_type": "execute_result"
    }
   ],
   "source": [
    "a=np.array([6,3,1,5,8])\n",
    "b=np.array([3,2,1,7,2])\n",
    "a[b>a] = b[a<b]\n",
    "a"
   ]
  },
  {
   "cell_type": "markdown",
   "id": "f33a39c6",
   "metadata": {},
   "source": [
    "### `Q-18` Answer below asked questions on given array:\n",
    "1. Fetch Every alternate column of the array\n",
    "2. Normalise the given array\n",
    "\n",
    "https://en.wikipedia.org/wiki/Normalization_(statistics)\n",
    "\n",
    "There are different form of normalisation for this question use below formula.\n",
    "\n",
    "$$\\large X_{normalized} = \\frac{X - X_{min}}{X_{max} - X_{min}}$$\n",
    "\n",
    "```python\n",
    "arr1=np.random.randint(low=1, high=10000, size=40).reshape(8,5)\n",
    "```\n"
   ]
  },
  {
   "cell_type": "code",
   "execution_count": 287,
   "id": "e1531b0d",
   "metadata": {},
   "outputs": [
    {
     "name": "stdout",
     "output_type": "stream",
     "text": [
      "[[8662 5763 8747 2167 4490]\n",
      " [1334 6006 9804 6255 8597]\n",
      " [7859 8197 2028 4851 1652]\n",
      " [8518 3425 3200 5650 7637]\n",
      " [6029 9472 4287 1460 1139]\n",
      " [4343 4409 6324 7832 6997]\n",
      " [1158 1835 4104 6014 8767]\n",
      " [ 707 2783 9692 7047 2391]]\n"
     ]
    },
    {
     "data": {
      "text/plain": [
       "array([[0.87446411, 0.55578762, 0.88380785, 0.16049247, 0.41585138],\n",
       "       [0.06892382, 0.58249973, 1.        , 0.60987139, 0.8673189 ],\n",
       "       [0.78619325, 0.82334836, 0.14521271, 0.45553479, 0.1038804 ],\n",
       "       [0.85863471, 0.29877982, 0.27404639, 0.54336594, 0.7617896 ],\n",
       "       [0.58502803, 0.96350445, 0.39353633, 0.08277454, 0.04748818],\n",
       "       [0.39969221, 0.40694735, 0.6174563 , 0.78322524, 0.69143674],\n",
       "       [0.04957678, 0.12399692, 0.37341981, 0.58337914, 0.88600638],\n",
       "       [0.        , 0.2282071 , 0.98768825, 0.69693305, 0.18511597]])"
      ]
     },
     "execution_count": 287,
     "metadata": {},
     "output_type": "execute_result"
    }
   ],
   "source": [
    "arr1=np.random.randint(low=1, high=10000, size=40).reshape(8,5)\n",
    "print(arr1)\n",
    "alternate_arr = arr1[:,::2]\n",
    "(arr1-np.min(arr1))/(np.max(arr1)-np.min(arr1))"
   ]
  },
  {
   "cell_type": "markdown",
   "id": "c66649c8",
   "metadata": {},
   "source": [
    "### `Q-19:` Write a function which will accept 2 arguments.\n",
    "First: A 1D numpy array arr\n",
    "\n",
    "Second: An integer n {Please make sure n<=len(arr)}\n",
    "\n",
    "Output: The output should be the nth largest item out of the array\n",
    "```\n",
    "# Example1 : arr=(12,34,40,7,1,0) and n=3, the output should be 12\n",
    "# Example2 : arr=(12,34,40,7,1,0) and n=1, the output should be 40\n",
    "```"
   ]
  },
  {
   "cell_type": "code",
   "execution_count": 293,
   "id": "9c374639",
   "metadata": {},
   "outputs": [
    {
     "data": {
      "text/plain": [
       "12"
      ]
     },
     "execution_count": 293,
     "metadata": {},
     "output_type": "execute_result"
    }
   ],
   "source": [
    "def nth_largest(arr,n):\n",
    "    if type(arr) != np.ndarray:\n",
    "        raise TypeError('The given array is not numpy array')\n",
    "    elif n > len(arr):\n",
    "        raise TypeError('The given n value is higher then length of array')\n",
    "    arr=np.sort(arr)\n",
    "    return arr[-n]\n",
    "nth_largest(np.array([12,34,40,7,1,0]),3)"
   ]
  },
  {
   "cell_type": "markdown",
   "id": "ef294e55",
   "metadata": {},
   "source": [
    "### `Q-20:` Create the following pattern without hardcoding. Use only numpy functions and the below input array a.\n",
    "```\n",
    "# Input: a = np.array([1,2,3])\n",
    "# Output: array([1, 1, 1, 2, 2, 2, 3, 3, 3, 1, 2, 3, 1, 2, 3, 1, 2, 3])\n",
    "```"
   ]
  },
  {
   "cell_type": "code",
   "execution_count": 308,
   "id": "67ebd11a",
   "metadata": {},
   "outputs": [
    {
     "data": {
      "text/plain": [
       "array([1, 1, 1, 2, 2, 2, 3, 3, 3, 1, 2, 3, 1, 2, 3, 1, 2, 3])"
      ]
     },
     "execution_count": 308,
     "metadata": {},
     "output_type": "execute_result"
    }
   ],
   "source": [
    "a = np.array([1,2,3])\n",
    "np.hstack((np.repeat(a,3), np.tile(a,3)))"
   ]
  },
  {
   "cell_type": "code",
   "execution_count": null,
   "id": "f828f5a9",
   "metadata": {},
   "outputs": [],
   "source": []
  }
 ],
 "metadata": {
  "kernelspec": {
   "display_name": "Python 3 (ipykernel)",
   "language": "python",
   "name": "python3"
  },
  "language_info": {
   "codemirror_mode": {
    "name": "ipython",
    "version": 3
   },
   "file_extension": ".py",
   "mimetype": "text/x-python",
   "name": "python",
   "nbconvert_exporter": "python",
   "pygments_lexer": "ipython3",
   "version": "3.8.16"
  }
 },
 "nbformat": 4,
 "nbformat_minor": 5
}
